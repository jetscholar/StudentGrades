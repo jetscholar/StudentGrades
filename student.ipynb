{
 "cells": [
  {
   "cell_type": "markdown",
   "metadata": {},
   "source": [
    "# Student Grade Predictor \n",
    "<center>\n",
    "    <img src=\"assets/funny-teacher-grading-meme.jpeg\" width=300, height=300 />\n",
    "</center>\n",
    "\n",
    "### Using Linear Regression"
   ]
  },
  {
   "cell_type": "code",
   "execution_count": 2,
   "metadata": {},
   "outputs": [],
   "source": [
    "# Import the Libraries - pip install pandas numpy sklearn - check pip --version\n",
    "import pandas as pd \n",
    "import numpy as np \n",
    "import sklearn\n",
    "from sklearn import linear_model\n",
    "from sklearn.utils import shuffle\n"
   ]
  },
  {
   "cell_type": "code",
   "execution_count": 3,
   "metadata": {},
   "outputs": [
    {
     "name": "stdout",
     "output_type": "stream",
     "text": [
      "  school sex  age address famsize Pstatus  Medu  Fedu     Mjob      Fjob  ...  \\\n",
      "0     GP   F   18       U     GT3       A     4     4  at_home   teacher  ...   \n",
      "1     GP   F   17       U     GT3       T     1     1  at_home     other  ...   \n",
      "2     GP   F   15       U     LE3       T     1     1  at_home     other  ...   \n",
      "3     GP   F   15       U     GT3       T     4     2   health  services  ...   \n",
      "4     GP   F   16       U     GT3       T     3     3    other     other  ...   \n",
      "\n",
      "  famrel freetime  goout  Dalc  Walc health absences  G1  G2  G3  \n",
      "0      4        3      4     1     1      3        6   5   6   6  \n",
      "1      5        3      3     1     1      3        4   5   5   6  \n",
      "2      4        3      2     2     3      3       10   7   8  10  \n",
      "3      3        2      2     1     1      5        2  15  14  15  \n",
      "4      4        3      2     1     2      5        4   6  10  10  \n",
      "\n",
      "[5 rows x 33 columns]\n"
     ]
    }
   ],
   "source": [
    "# Read data into pandas using a semi-colon as the separator\n",
    "data = pd.read_csv(\"student-mat.csv\", sep=\";\")\n",
    "\n",
    "# Print out the first 5 elements with .head()\n",
    "print(data.head())"
   ]
  },
  {
   "cell_type": "code",
   "execution_count": 4,
   "metadata": {},
   "outputs": [
    {
     "name": "stdout",
     "output_type": "stream",
     "text": [
      "   G1  G2  G3  studytime  failures  absences\n",
      "0   5   6   6          2         0         6\n",
      "1   5   5   6          2         0         4\n",
      "2   7   8  10          2         3        10\n",
      "3  15  14  15          3         0         2\n",
      "4   6  10  10          2         0         4\n"
     ]
    }
   ],
   "source": [
    "# select data to be analysed\n",
    "data = data[[\"G1\", \"G2\", \"G3\", \"studytime\", \"failures\", \"absences\"]]\n",
    "\n",
    "# Print head again\n",
    "print(data.head())"
   ]
  },
  {
   "cell_type": "code",
   "execution_count": 6,
   "metadata": {},
   "outputs": [],
   "source": [
    "# A Label is the the predicted quantity - G3 is the final score\n",
    "# Attributes(features) are data used to make the prediction - {G1, G2, studytime, etc}\n",
    "predict = \"G3\" \n",
    "\n",
    "# setup arrays of attributes - dataframe without G3\n",
    "X = np.array(data.drop([predict], axis=1))\n",
    "Y = np.array(data[predict])\n",
    "\n"
   ]
  },
  {
   "cell_type": "code",
   "execution_count": null,
   "metadata": {},
   "outputs": [],
   "source": [
    "# Split the datset into 4 parts - Train and Predict"
   ]
  }
 ],
 "metadata": {
  "kernelspec": {
   "display_name": "Python 3",
   "language": "python",
   "name": "python3"
  },
  "language_info": {
   "codemirror_mode": {
    "name": "ipython",
    "version": 3
   },
   "file_extension": ".py",
   "mimetype": "text/x-python",
   "name": "python",
   "nbconvert_exporter": "python",
   "pygments_lexer": "ipython3",
   "version": "3.11.4"
  },
  "orig_nbformat": 4
 },
 "nbformat": 4,
 "nbformat_minor": 2
}
