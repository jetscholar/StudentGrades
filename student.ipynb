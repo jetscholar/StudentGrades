{
 "cells": [
  {
   "cell_type": "code",
   "execution_count": 15,
   "metadata": {},
   "outputs": [],
   "source": [
    "from IPython.display import Image"
   ]
  },
  {
   "cell_type": "markdown",
   "metadata": {},
   "source": [
    "# Student Grade Predictor \n",
    "<center>\n",
    "    <img src=\"assets/funny-teacher-grading-meme.jpeg\" width=300, height=300 />\n",
    "</center>\n",
    "\n",
    "### Using Linear Regression"
   ]
  },
  {
   "cell_type": "code",
   "execution_count": 16,
   "metadata": {},
   "outputs": [],
   "source": [
    "# Import the Libraries - pip install pandas, numpy, sklearn\n",
    "import pandas as pd \n",
    "import numpy as np \n",
    "import sklearn\n",
    "from sklearn import linear_model\n",
    "from sklearn.utils import shuffle\n"
   ]
  }
 ],
 "metadata": {
  "kernelspec": {
   "display_name": "Python 3",
   "language": "python",
   "name": "python3"
  },
  "language_info": {
   "codemirror_mode": {
    "name": "ipython",
    "version": 3
   },
   "file_extension": ".py",
   "mimetype": "text/x-python",
   "name": "python",
   "nbconvert_exporter": "python",
   "pygments_lexer": "ipython3",
   "version": "3.11.4"
  },
  "orig_nbformat": 4
 },
 "nbformat": 4,
 "nbformat_minor": 2
}
